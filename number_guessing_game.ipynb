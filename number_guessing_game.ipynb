{
 "cells": [
  {
   "cell_type": "code",
   "execution_count": null,
   "id": "159276f9",
   "metadata": {},
   "outputs": [
    {
     "name": "stdout",
     "output_type": "stream",
     "text": [
      "94 is random_number\n",
      " what is your guess?\n"
     ]
    }
   ],
   "source": [
    "import random\n",
    "\n",
    "random_number=random.randint(1,100)\n",
    "random_number\n",
    "print(random_number ,'is random_number')\n",
    "\n",
    "\n",
    "guess_list=[]\n",
    "\n",
    "print(' what is your guess?')\n",
    "\n",
    "score=100\n",
    "\n",
    "for i in range(1,9):\n",
    "    user_guess=input()\n",
    "    guess_list.append(int(user_guess))\n",
    "    print('guess number ', i, ' is:  ', int(user_guess))\n",
    "    \n",
    "    if int(user_guess)==random_number:\n",
    "        print('Congratulations ','your guess is right on try number',i)\n",
    "        score+=50\n",
    "        break\n",
    "    elif int(user_guess)>100 or int(user_guess)<1:\n",
    "        print(\"OUT OF BOUNDS\") \n",
    "    else: \n",
    "        if i==1:\n",
    "            if abs(int(user_guess)-random_number)<10 :\n",
    "                print('WARM')\n",
    "                score+=7\n",
    "            elif abs(int(user_guess)-random_number)>10 :\n",
    "                print('COLD')\n",
    "                score-=7\n",
    "        else:    \n",
    "            while i<9:\n",
    "                if i==8:\n",
    "                    if i>1 and abs((guess_list[-1]-random_number))<abs((guess_list[-2]-random_number)):\n",
    "                        print('WARMER')\n",
    "                        print('last chance')\n",
    "                        score+=5\n",
    "                        break\n",
    "                    elif i>1 and abs((guess_list[-1]-random_number))>abs((guess_list[-2]-random_number)):\n",
    "                        print('COLDER')\n",
    "                        print('this was your last chance')\n",
    "                        score-=5\n",
    "                        break\n",
    "                else:\n",
    "                    if i>1 and abs((guess_list[-1]-random_number))<abs((guess_list[-2]-random_number)):\n",
    "                        print('WARMER')\n",
    "                        score+=5\n",
    "                        break\n",
    "                    elif i>1 and abs((guess_list[-1]-random_number))>abs((guess_list[-2]-random_number)):\n",
    "                        print('COLDER')\n",
    "                        score-=5\n",
    "                        break\n",
    "                \n",
    "    \n",
    "print('your final score is :  ',score)  "
   ]
  },
  {
   "cell_type": "code",
   "execution_count": null,
   "id": "1cb34a32",
   "metadata": {},
   "outputs": [],
   "source": []
  }
 ],
 "metadata": {
  "kernelspec": {
   "display_name": "Python 3 (ipykernel)",
   "language": "python",
   "name": "python3"
  },
  "language_info": {
   "codemirror_mode": {
    "name": "ipython",
    "version": 3
   },
   "file_extension": ".py",
   "mimetype": "text/x-python",
   "name": "python",
   "nbconvert_exporter": "python",
   "pygments_lexer": "ipython3",
   "version": "3.9.7"
  }
 },
 "nbformat": 4,
 "nbformat_minor": 5
}
